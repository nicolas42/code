{
 "cells": [
  {
   "cell_type": "code",
   "execution_count": 4,
   "id": "b5acb8a0",
   "metadata": {},
   "outputs": [
    {
     "name": "stdout",
     "output_type": "stream",
     "text": [
      "not, in every sea breaking over us, fore and mizzen had come over me a condor’s quill! Give me as much of any description. My object here is an artist. He desires to paint me a funny story about selling his head, and sadly need mending. Towards evening, when I left the Pequod, the barbarian sound of gay fowl softly feathering the sea, however unattended with any stranger captain, who was surrounded by all the waves we saw for a time, the fish styled Lamatins and Dugongs (Pig-fish and Sow-fish of the fishery, the whale-boat is like the Tartar, when "
     ]
    }
   ],
   "source": [
    "# Write text by repeatedly searching the input text for the last two output words.\n",
    "\n",
    "import random\n",
    "import requests\n",
    "import os\n",
    "\n",
    "\n",
    "def read_thru(url):\n",
    "    \"\"\"read from url or from a local file if it's available\"\"\"\n",
    "    \n",
    "    # url2filename\n",
    "    filename = url.split('//')[-1].replace('/','-')\n",
    "    # to make a file which is roughly equivalenet to a url we \n",
    "    # take of http(s):// and then just convert all forward slashes\n",
    "    # to dashes.  this is reasonably collision avoidant\n",
    "    # the other option might be to percent encode forward slashes \n",
    "    # but that looks too ugly\n",
    "\n",
    "    if os.path.exists(filename):\n",
    "        f = open(filename,'r')\n",
    "        data = f.read()\n",
    "        f.close()\n",
    "        return data\n",
    "\n",
    "    print('\\nreading', url, '...\\n')\n",
    "\n",
    "    # set encoding to utf8\n",
    "    response = requests.get(url)\n",
    "    response.encoding = 'utf-8'\n",
    "    data = response.text\n",
    "    \n",
    "    f = open(filename,'w')\n",
    "    f.write(data)\n",
    "    f.close()\n",
    "\n",
    "    return data\n",
    "\n",
    "\n",
    "if __name__ == \"__main__\":\n",
    "    \n",
    "    url = 'https://www.gutenberg.org/files/2701/2701-0.txt' # Moby-Dick\n",
    "    data = read_thru(url)\n",
    "\n",
    "    output = []\n",
    "    data = data.split() # split at whitespace\n",
    "\n",
    "    position = random.randint(0, len(data)-3) # 24158 \n",
    "\n",
    "    output.append(data[position])\n",
    "    output.append(data[position+1])\n",
    "\n",
    "    for j in range(100):\n",
    "        # print(j)\n",
    "        locations_of_matches = []\n",
    "        for i,_ in enumerate(data):\n",
    "            if data[i].lower() == output[-2].lower() and data[i+1].lower() == output[-1].lower():\n",
    "                # print(i)\n",
    "                locations_of_matches.append(i)\n",
    "\n",
    "        # print(locations_of_matches)        \n",
    "        # for l in locations_of_matches:\n",
    "        #     print(data[l], data[l+1], data[l+2])\n",
    "        random_match_location = random.choice(locations_of_matches)\n",
    "        new_word = data[random_match_location+2]\n",
    "        output.append(new_word)\n",
    "        print(new_word, end=' ', flush=True)\n",
    "\n",
    "\n",
    "#     print(output)\n",
    "\n",
    "    # joined_result = ' '.join(output)\n",
    "    # print(joined_result)\n",
    "\n"
   ]
  },
  {
   "cell_type": "code",
   "execution_count": null,
   "id": "ccf93ab2",
   "metadata": {},
   "outputs": [],
   "source": []
  }
 ],
 "metadata": {
  "kernelspec": {
   "display_name": "Python 3 (ipykernel)",
   "language": "python",
   "name": "python3"
  },
  "language_info": {
   "codemirror_mode": {
    "name": "ipython",
    "version": 3
   },
   "file_extension": ".py",
   "mimetype": "text/x-python",
   "name": "python",
   "nbconvert_exporter": "python",
   "pygments_lexer": "ipython3",
   "version": "3.9.2"
  }
 },
 "nbformat": 4,
 "nbformat_minor": 5
}
