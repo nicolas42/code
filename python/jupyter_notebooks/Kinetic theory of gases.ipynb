{
 "cells": [
  {
   "cell_type": "markdown",
   "id": "b400ca5e",
   "metadata": {},
   "source": [
    "# Kinetic theory of gases\n",
    "\n",
    "Temperature is related to the average speed of molecules. \n",
    "\n",
    "The momentum change of a simple elastic collision is twice the regular momentum.\n",
    "\n",
    "$$ \\Delta p = p_{final} - p_{initial} = mv_x - m(-v_x) = 2mv_x $$\n",
    "\n",
    "The length of time to go across a box is \n",
    "\n",
    "$$ \\Delta t = \\frac L {v_x} $$\n",
    "\n",
    "Force is momentum over time\n",
    "\n",
    "$$ F = \\frac {\\Delta p} {\\Delta t} = \\frac {2mv_x^2} {L} $$\n",
    "\n",
    "Consider the motion of N particles with an average velocity v.\n",
    "\n",
    "The motion of particles is random. The components of the average speed are the same.  This is a bit tricky to think about.\n",
    "\n",
    "$$ v_x = v_y = v_z $$\n",
    "\n",
    "$$ v^2 = v_x^2 + v_y^2 + v_z^2 = 3 v_x^2 $$\n",
    "\n",
    "The kinetic energy of N particles with average velocity v.\n",
    "\n",
    "$$ F = \\frac{2 N m v_x^2}{L}   = \\frac{2 N m v^2}{3L}  $$\n",
    "\n",
    "\n",
    "\n",
    "These particles force is spread out over two sides of the box with area 2 L^2.  So the pressure is \n",
    "\n",
    "$$ P = \\frac{N m v^2}{3 L^3} $$ \n",
    "\n",
    "$$ PV = \\frac {1}{3} N m v^2 $$ \n",
    "\n",
    "ideal gas law \n",
    "\n",
    "$$ PV = N k_B T $$ \n",
    "\n",
    "$$ m v^2 = 3 k_B T $$ \n",
    "\n",
    "Temperature is related to the weight of the molecules and their average velocity.\n",
    "\n",
    "source: https://en.wikipedia.org/wiki/Kinetic_theory_of_gases#Equilibrium_properties"
   ]
  },
  {
   "cell_type": "code",
   "execution_count": 12,
   "id": "6c5fe508",
   "metadata": {},
   "outputs": [
    {
     "data": {
      "text/plain": [
       "4403.806979683733"
      ]
     },
     "execution_count": 12,
     "metadata": {},
     "output_type": "execute_result"
    }
   ],
   "source": [
    "from math import * \n",
    "\n",
    "# Rocket exhausts can run about 3500 K\n",
    "# Give the temperature and the average molecular weight can \n",
    "# we calculate the exhaust velocity?\n",
    "\n",
    "T = 3500 \n",
    "kB = 1.380649e-23 # J/K \n",
    "# 1 hydrogen = 1 / (6.02e23) * 1e-3 kg = 1.6611296e-27 kg\n",
    "# hydrogen turns into water exhaust\n",
    "m = 18 * 1.6611296e-27\n",
    "# v = sqrt( 3 kB T / m )\n",
    "v = sqrt( 3 * kB * T / m )\n",
    "v \n",
    "\n",
    "# Unfortunately this appears to be about 50% of what it should be.\n",
    "\n",
    "\n",
    "# However the point of a nozzle is to align molecular movement.\n",
    "# So the average velocity would not be 1/3 of the x velocity.  Instead \n",
    "# it would simply be equal.\n",
    "# N m v^2 = N kB T\n",
    "# SSME fuel ratio 6:1\n",
    "# The external tank held 143,000 gallons of liquid oxygen (1,359,000 pounds) and 383,000 gallons of liquid hydrogen (226,000 pounds).\n",
    "# So there's 6x oxygen to hydrogen by mass \n",
    "# H2 + 1/2 02 = H20    2 + 16 => 18\n",
    "# ordinarily the mass ratio is 1:8   hydrogen to oxygen\n",
    "# 1:6 = 1.333 : 8 so there's an extra 1/3 of a hydrogen that doesnt react\n",
    "# that reduces the specific energy but also reduces the average molecular weight\n",
    "\n",
    "# average molecular weight = 1/3 * 2 + 2/3 * 18 = 12.66 ??\n"
   ]
  },
  {
   "cell_type": "markdown",
   "id": "53c92e35",
   "metadata": {},
   "source": [
    "https://thephysicsofspacex.files.wordpress.com/2016/07/isp-upper-limits.pdf\n",
    "\n"
   ]
  },
  {
   "cell_type": "code",
   "execution_count": null,
   "id": "ea654a07",
   "metadata": {},
   "outputs": [],
   "source": []
  }
 ],
 "metadata": {
  "kernelspec": {
   "display_name": "Python 3 (ipykernel)",
   "language": "python",
   "name": "python3"
  },
  "language_info": {
   "codemirror_mode": {
    "name": "ipython",
    "version": 3
   },
   "file_extension": ".py",
   "mimetype": "text/x-python",
   "name": "python",
   "nbconvert_exporter": "python",
   "pygments_lexer": "ipython3",
   "version": "3.9.9"
  }
 },
 "nbformat": 4,
 "nbformat_minor": 5
}
