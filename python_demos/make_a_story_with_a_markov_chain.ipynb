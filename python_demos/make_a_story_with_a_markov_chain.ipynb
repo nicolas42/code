{
 "cells": [
  {
   "cell_type": "code",
   "execution_count": 7,
   "id": "02e76721",
   "metadata": {},
   "outputs": [
    {
     "name": "stdout",
     "output_type": "stream",
     "text": [
      "as yet a little cabin-boy in short to share my every hap; with both my hands and make me an immortal by brevet. Yes, there is a mild, mild wind, and very soon completed; and requires vast address and boldness in the now unhaunted hill; then be ashes. Take the boat’s stern, and by a rainbow, as if it might include. There was none in his wilful disobedience of the Fates, put me down for the present, ushered us into a sharppointed New York packet-tracks. In the year in our old Manxman—the old hearse-driver, he must undress and get a \n"
     ]
    }
   ],
   "source": [
    "!python3 make_a_story_with_a_markov_chain.py"
   ]
  },
  {
   "cell_type": "code",
   "execution_count": 3,
   "id": "b5acb8a0",
   "metadata": {},
   "outputs": [
    {
     "name": "stdout",
     "output_type": "stream",
     "text": [
      "my tambourine over base Pip, and hail him General, if he be closely observed and studied throughout the Pacific, in whose unhealing hearts the sight of land, covered with cracked glass cases, filled with the planks, then, no one could certainly say. By some infernal trick of legerdemain in the Northern American coast. He has no solid basis to stand on! Cursed be all right; too short, if anything, I guess. Blast him! now that at every dart, hauling in upon him!” Hearing the footstep at the pumps, according to the Project GUTENBERG Literary Archive Foundation, how to splice a \n"
     ]
    }
   ],
   "source": [
    "import random\n",
    "import requests\n",
    "import os\n",
    "\n",
    "\n",
    "def read_thru(url):\n",
    "\n",
    "    # read data from url_file if possible\n",
    "    # otherwise read from the url and write to a file for later\n",
    "    \n",
    "    # to make a file which is roughly equivalenet to a url we \n",
    "    # take of http(s):// and then just convert all forward slashes\n",
    "    # to dashes.  this is reasonably collision avoidant\n",
    "    # the other option might be to percent encode forward slashes \n",
    "    # but that looks too ugly\n",
    "\n",
    "\n",
    "    # url2filename\n",
    "    filename = url.split('//')[-1].replace('/','-')\n",
    "\n",
    "    if os.path.exists(filename):\n",
    "        f = open(filename,'r')\n",
    "        data = f.read()\n",
    "        f.close()\n",
    "        return data\n",
    "\n",
    "    print('\\nreading', url, '...\\n')\n",
    "\n",
    "    # set encoding to utf8\n",
    "    response = requests.get(url)\n",
    "    response.encoding = 'utf-8'\n",
    "    data = response.text\n",
    "    \n",
    "    f = open(filename,'w')\n",
    "    f.write(data)\n",
    "    f.close()\n",
    "\n",
    "    return data\n",
    "\n",
    "\n",
    "if __name__ == \"__main__\":\n",
    "    url = 'https://www.gutenberg.org/files/2701/2701-0.txt'\n",
    "    data = read_thru(url)\n",
    "\n",
    "    # # write to file\n",
    "    # f = open('moby_dick.txt','w',encoding=\"utf-8\")\n",
    "    # f.write(r.text)\n",
    "    # f.close()\n",
    "\n",
    "    # # read from file\n",
    "    # f = open('moby_dick.txt', encoding=\"utf-8\")\n",
    "    # data = f.read()\n",
    "    # f.close()\n",
    "\n",
    "\n",
    "    output = []\n",
    "    data = data.split() # split at whitespace\n",
    "\n",
    "    position = random.randint(0, len(data)-3) # 24158 \n",
    "\n",
    "    output.append(data[position])\n",
    "    output.append(data[position+1])\n",
    "\n",
    "    for j in range(100):\n",
    "        # print(j)\n",
    "        locations_of_matches = []\n",
    "        for i,_ in enumerate(data):\n",
    "            if data[i].lower() == output[-2].lower() and data[i+1].lower() == output[-1].lower():\n",
    "                # print(i)\n",
    "                locations_of_matches.append(i)\n",
    "\n",
    "        # print(locations_of_matches)        \n",
    "        # for l in locations_of_matches:\n",
    "        #     print(data[l], data[l+1], data[l+2])\n",
    "        random_match_location = random.choice(locations_of_matches)\n",
    "        new_word = data[random_match_location+2]\n",
    "        output.append(new_word)\n",
    "        print(new_word, end=' ', flush=True)\n",
    "\n",
    "\n",
    "    print()\n",
    "\n",
    "    # joined_result = ' '.join(output)\n",
    "    # print(joined_result)\n",
    "\n"
   ]
  },
  {
   "cell_type": "code",
   "execution_count": null,
   "id": "ccf93ab2",
   "metadata": {},
   "outputs": [],
   "source": []
  }
 ],
 "metadata": {
  "kernelspec": {
   "display_name": "Python 3 (ipykernel)",
   "language": "python",
   "name": "python3"
  },
  "language_info": {
   "codemirror_mode": {
    "name": "ipython",
    "version": 3
   },
   "file_extension": ".py",
   "mimetype": "text/x-python",
   "name": "python",
   "nbconvert_exporter": "python",
   "pygments_lexer": "ipython3",
   "version": "3.9.2"
  }
 },
 "nbformat": 4,
 "nbformat_minor": 5
}
